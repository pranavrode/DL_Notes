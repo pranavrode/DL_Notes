{
 "cells": [
  {
   "cell_type": "code",
   "execution_count": 1,
   "metadata": {
    "id": "1pHFvldLwGau"
   },
   "outputs": [
    {
     "name": "stdout",
     "output_type": "stream",
     "text": [
      "WARNING:tensorflow:From C:\\Users\\prana\\anaconda3\\Lib\\site-packages\\keras\\src\\losses.py:2976: The name tf.losses.sparse_softmax_cross_entropy is deprecated. Please use tf.compat.v1.losses.sparse_softmax_cross_entropy instead.\n",
      "\n"
     ]
    }
   ],
   "source": [
    "import os\n",
    "import cv2\n",
    "\n",
    "import shutil\n",
    "\n",
    "import pandas as pd\n",
    "\n",
    "import numpy as np\n",
    "\n",
    "from shutil import move\n",
    "\n",
    "from subprocess import call\n",
    "\n",
    "import matplotlib.pyplot as plt\n",
    "\n",
    "from urllib.request import urlretrieve\n",
    "\n",
    "from sklearn.model_selection import train_test_split\n",
    "\n",
    "import tensorflow as tf\n",
    "\n",
    "from tensorflow.keras.preprocessing.image import ImageDataGenerator\n",
    "\n",
    "from tensorflow.keras.utils import load_img\n",
    "\n",
    "from tensorflow.keras.utils import img_to_array\n",
    "\n"
   ]
  },
  {
   "cell_type": "code",
   "execution_count": 3,
   "metadata": {},
   "outputs": [
    {
     "name": "stdout",
     "output_type": "stream",
     "text": [
      "Current Directory: C:\\Users\\prana\\DS - Python\\Daily Notes_DL\\DL_Day_10_B\n",
      "Updated Directory: C:\\Users\\prana\\Downloads\n"
     ]
    }
   ],
   "source": [
    "import os\n",
    "\n",
    "# Get the current working directory\n",
    "current_directory = os.getcwd()\n",
    "print(\"Current Directory:\", current_directory)\n",
    "\n",
    "# Specify the path to the folder you want to change to\n",
    "new_directory = \"C:/Users/prana/Downloads\"\n",
    "\n",
    "# Change the current working directory\n",
    "os.chdir(new_directory)\n",
    "\n",
    "# Verify the change\n",
    "updated_directory = os.getcwd()\n",
    "print(\"Updated Directory:\", updated_directory)\n"
   ]
  },
  {
   "cell_type": "code",
   "execution_count": 2,
   "metadata": {},
   "outputs": [
    {
     "data": {
      "text/plain": [
       "'C:\\\\Users\\\\prana\\\\DS - Python\\\\Daily Notes_DL\\\\DL_Day_10_B'"
      ]
     },
     "execution_count": 2,
     "metadata": {},
     "output_type": "execute_result"
    }
   ],
   "source": [
    "os.getcwd()"
   ]
  },
  {
   "cell_type": "code",
   "execution_count": 12,
   "metadata": {
    "id": "0epn4rG0yf9w"
   },
   "outputs": [],
   "source": [
    "# Creating the directories\n",
    "\n",
    "base_dr = os.getcwd()\n",
    "\n",
    "# Generating the paths\n",
    "\n",
    "extraction_point = os.path.join(base_dr, 'data','extracted_raw')\n",
    "processed_data_path = os.path.join(base_dr, 'data','processed')\n",
    "\n",
    "# Generatingb the directories\n",
    "\n",
    "os.makedirs(extraction_point)\n",
    "os.makedirs(processed_data_path)"
   ]
  },
  {
   "cell_type": "code",
   "execution_count": 13,
   "metadata": {},
   "outputs": [
    {
     "data": {
      "text/plain": [
       "'C:\\\\Users\\\\prana\\\\Downloads\\\\data\\\\extracted_raw'"
      ]
     },
     "execution_count": 13,
     "metadata": {},
     "output_type": "execute_result"
    }
   ],
   "source": [
    "extraction_point"
   ]
  },
  {
   "cell_type": "code",
   "execution_count": 14,
   "metadata": {
    "colab": {
     "base_uri": "https://localhost:8080/"
    },
    "id": "BiP_8ZcZzeXy",
    "outputId": "879b28fc-ef47-4903-9a3a-9e49c57be9ba"
   },
   "outputs": [
    {
     "name": "stdout",
     "output_type": "stream",
     "text": [
      "Downloading dataset.\n",
      "Extracting dataset.\n",
      "Done.\n"
     ]
    }
   ],
   "source": [
    "# Downloading the data from Git hub by using url address\n",
    "\n",
    "\n",
    "dataset_url = \"http://aisdatasets.informatik.uni-freiburg.de/\" \\\n",
    "              \"freiburg_groceries_dataset/freiburg_groceries_dataset.tar.gz\"\n",
    "\n",
    "print(\"Downloading dataset.\")\n",
    "urlretrieve(dataset_url, \"../freiburg_groceries_dataset.tar.gz\")\n",
    "print(\"Extracting dataset.\")\n",
    "call([\"tar\", \"-xf\", \"../freiburg_groceries_dataset.tar.gz\", \"-C\", extraction_point])\n",
    "os.remove(\"../freiburg_groceries_dataset.tar.gz\")\n",
    "print(\"Done.\")"
   ]
  },
  {
   "cell_type": "code",
   "execution_count": 4,
   "metadata": {
    "id": "ummt5bGC2E4P"
   },
   "outputs": [],
   "source": [
    "image_path = 'data/extracted_raw/images/BEANS/BEANS0000.png'\n",
    "\n",
    "image_matrix = cv2.imread(image_path)"
   ]
  },
  {
   "cell_type": "code",
   "execution_count": 5,
   "metadata": {
    "colab": {
     "base_uri": "https://localhost:8080/"
    },
    "id": "7Uvl9dhx2e3v",
    "outputId": "45344f7b-4f28-4661-988d-f9c70d614db5"
   },
   "outputs": [
    {
     "ename": "AttributeError",
     "evalue": "'NoneType' object has no attribute 'shape'",
     "output_type": "error",
     "traceback": [
      "\u001b[1;31m---------------------------------------------------------------------------\u001b[0m",
      "\u001b[1;31mAttributeError\u001b[0m                            Traceback (most recent call last)",
      "Cell \u001b[1;32mIn[5], line 1\u001b[0m\n\u001b[1;32m----> 1\u001b[0m image_matrix\u001b[38;5;241m.\u001b[39mshape\n",
      "\u001b[1;31mAttributeError\u001b[0m: 'NoneType' object has no attribute 'shape'"
     ]
    }
   ],
   "source": [
    "image_matrix.shape"
   ]
  },
  {
   "cell_type": "code",
   "execution_count": 7,
   "metadata": {
    "colab": {
     "base_uri": "https://localhost:8080/",
     "height": 852
    },
    "id": "lYx9NGxp2u4M",
    "outputId": "23590a92-6c70-4e0b-b911-5d533b23b0a8"
   },
   "outputs": [
    {
     "ename": "TypeError",
     "evalue": "Image data of dtype object cannot be converted to float",
     "output_type": "error",
     "traceback": [
      "\u001b[1;31m---------------------------------------------------------------------------\u001b[0m",
      "\u001b[1;31mTypeError\u001b[0m                                 Traceback (most recent call last)",
      "Cell \u001b[1;32mIn[7], line 2\u001b[0m\n\u001b[0;32m      1\u001b[0m plt\u001b[38;5;241m.\u001b[39mfigure(figsize \u001b[38;5;241m=\u001b[39m (\u001b[38;5;241m12\u001b[39m,\u001b[38;5;241m10\u001b[39m))\n\u001b[1;32m----> 2\u001b[0m plt\u001b[38;5;241m.\u001b[39mimshow(image_matrix)\n\u001b[0;32m      3\u001b[0m plt\u001b[38;5;241m.\u001b[39mshow\n",
      "File \u001b[1;32m~\\anaconda3\\Lib\\site-packages\\matplotlib\\pyplot.py:2695\u001b[0m, in \u001b[0;36mimshow\u001b[1;34m(X, cmap, norm, aspect, interpolation, alpha, vmin, vmax, origin, extent, interpolation_stage, filternorm, filterrad, resample, url, data, **kwargs)\u001b[0m\n\u001b[0;32m   2689\u001b[0m \u001b[38;5;129m@_copy_docstring_and_deprecators\u001b[39m(Axes\u001b[38;5;241m.\u001b[39mimshow)\n\u001b[0;32m   2690\u001b[0m \u001b[38;5;28;01mdef\u001b[39;00m \u001b[38;5;21mimshow\u001b[39m(\n\u001b[0;32m   2691\u001b[0m         X, cmap\u001b[38;5;241m=\u001b[39m\u001b[38;5;28;01mNone\u001b[39;00m, norm\u001b[38;5;241m=\u001b[39m\u001b[38;5;28;01mNone\u001b[39;00m, \u001b[38;5;241m*\u001b[39m, aspect\u001b[38;5;241m=\u001b[39m\u001b[38;5;28;01mNone\u001b[39;00m, interpolation\u001b[38;5;241m=\u001b[39m\u001b[38;5;28;01mNone\u001b[39;00m,\n\u001b[0;32m   2692\u001b[0m         alpha\u001b[38;5;241m=\u001b[39m\u001b[38;5;28;01mNone\u001b[39;00m, vmin\u001b[38;5;241m=\u001b[39m\u001b[38;5;28;01mNone\u001b[39;00m, vmax\u001b[38;5;241m=\u001b[39m\u001b[38;5;28;01mNone\u001b[39;00m, origin\u001b[38;5;241m=\u001b[39m\u001b[38;5;28;01mNone\u001b[39;00m, extent\u001b[38;5;241m=\u001b[39m\u001b[38;5;28;01mNone\u001b[39;00m,\n\u001b[0;32m   2693\u001b[0m         interpolation_stage\u001b[38;5;241m=\u001b[39m\u001b[38;5;28;01mNone\u001b[39;00m, filternorm\u001b[38;5;241m=\u001b[39m\u001b[38;5;28;01mTrue\u001b[39;00m, filterrad\u001b[38;5;241m=\u001b[39m\u001b[38;5;241m4.0\u001b[39m,\n\u001b[0;32m   2694\u001b[0m         resample\u001b[38;5;241m=\u001b[39m\u001b[38;5;28;01mNone\u001b[39;00m, url\u001b[38;5;241m=\u001b[39m\u001b[38;5;28;01mNone\u001b[39;00m, data\u001b[38;5;241m=\u001b[39m\u001b[38;5;28;01mNone\u001b[39;00m, \u001b[38;5;241m*\u001b[39m\u001b[38;5;241m*\u001b[39mkwargs):\n\u001b[1;32m-> 2695\u001b[0m     __ret \u001b[38;5;241m=\u001b[39m gca()\u001b[38;5;241m.\u001b[39mimshow(\n\u001b[0;32m   2696\u001b[0m         X, cmap\u001b[38;5;241m=\u001b[39mcmap, norm\u001b[38;5;241m=\u001b[39mnorm, aspect\u001b[38;5;241m=\u001b[39maspect,\n\u001b[0;32m   2697\u001b[0m         interpolation\u001b[38;5;241m=\u001b[39minterpolation, alpha\u001b[38;5;241m=\u001b[39malpha, vmin\u001b[38;5;241m=\u001b[39mvmin,\n\u001b[0;32m   2698\u001b[0m         vmax\u001b[38;5;241m=\u001b[39mvmax, origin\u001b[38;5;241m=\u001b[39morigin, extent\u001b[38;5;241m=\u001b[39mextent,\n\u001b[0;32m   2699\u001b[0m         interpolation_stage\u001b[38;5;241m=\u001b[39minterpolation_stage,\n\u001b[0;32m   2700\u001b[0m         filternorm\u001b[38;5;241m=\u001b[39mfilternorm, filterrad\u001b[38;5;241m=\u001b[39mfilterrad, resample\u001b[38;5;241m=\u001b[39mresample,\n\u001b[0;32m   2701\u001b[0m         url\u001b[38;5;241m=\u001b[39murl, \u001b[38;5;241m*\u001b[39m\u001b[38;5;241m*\u001b[39m({\u001b[38;5;124m\"\u001b[39m\u001b[38;5;124mdata\u001b[39m\u001b[38;5;124m\"\u001b[39m: data} \u001b[38;5;28;01mif\u001b[39;00m data \u001b[38;5;129;01mis\u001b[39;00m \u001b[38;5;129;01mnot\u001b[39;00m \u001b[38;5;28;01mNone\u001b[39;00m \u001b[38;5;28;01melse\u001b[39;00m {}),\n\u001b[0;32m   2702\u001b[0m         \u001b[38;5;241m*\u001b[39m\u001b[38;5;241m*\u001b[39mkwargs)\n\u001b[0;32m   2703\u001b[0m     sci(__ret)\n\u001b[0;32m   2704\u001b[0m     \u001b[38;5;28;01mreturn\u001b[39;00m __ret\n",
      "File \u001b[1;32m~\\anaconda3\\Lib\\site-packages\\matplotlib\\__init__.py:1446\u001b[0m, in \u001b[0;36m_preprocess_data.<locals>.inner\u001b[1;34m(ax, data, *args, **kwargs)\u001b[0m\n\u001b[0;32m   1443\u001b[0m \u001b[38;5;129m@functools\u001b[39m\u001b[38;5;241m.\u001b[39mwraps(func)\n\u001b[0;32m   1444\u001b[0m \u001b[38;5;28;01mdef\u001b[39;00m \u001b[38;5;21minner\u001b[39m(ax, \u001b[38;5;241m*\u001b[39margs, data\u001b[38;5;241m=\u001b[39m\u001b[38;5;28;01mNone\u001b[39;00m, \u001b[38;5;241m*\u001b[39m\u001b[38;5;241m*\u001b[39mkwargs):\n\u001b[0;32m   1445\u001b[0m     \u001b[38;5;28;01mif\u001b[39;00m data \u001b[38;5;129;01mis\u001b[39;00m \u001b[38;5;28;01mNone\u001b[39;00m:\n\u001b[1;32m-> 1446\u001b[0m         \u001b[38;5;28;01mreturn\u001b[39;00m func(ax, \u001b[38;5;241m*\u001b[39m\u001b[38;5;28mmap\u001b[39m(sanitize_sequence, args), \u001b[38;5;241m*\u001b[39m\u001b[38;5;241m*\u001b[39mkwargs)\n\u001b[0;32m   1448\u001b[0m     bound \u001b[38;5;241m=\u001b[39m new_sig\u001b[38;5;241m.\u001b[39mbind(ax, \u001b[38;5;241m*\u001b[39margs, \u001b[38;5;241m*\u001b[39m\u001b[38;5;241m*\u001b[39mkwargs)\n\u001b[0;32m   1449\u001b[0m     auto_label \u001b[38;5;241m=\u001b[39m (bound\u001b[38;5;241m.\u001b[39marguments\u001b[38;5;241m.\u001b[39mget(label_namer)\n\u001b[0;32m   1450\u001b[0m                   \u001b[38;5;129;01mor\u001b[39;00m bound\u001b[38;5;241m.\u001b[39mkwargs\u001b[38;5;241m.\u001b[39mget(label_namer))\n",
      "File \u001b[1;32m~\\anaconda3\\Lib\\site-packages\\matplotlib\\axes\\_axes.py:5663\u001b[0m, in \u001b[0;36mAxes.imshow\u001b[1;34m(self, X, cmap, norm, aspect, interpolation, alpha, vmin, vmax, origin, extent, interpolation_stage, filternorm, filterrad, resample, url, **kwargs)\u001b[0m\n\u001b[0;32m   5655\u001b[0m \u001b[38;5;28mself\u001b[39m\u001b[38;5;241m.\u001b[39mset_aspect(aspect)\n\u001b[0;32m   5656\u001b[0m im \u001b[38;5;241m=\u001b[39m mimage\u001b[38;5;241m.\u001b[39mAxesImage(\u001b[38;5;28mself\u001b[39m, cmap\u001b[38;5;241m=\u001b[39mcmap, norm\u001b[38;5;241m=\u001b[39mnorm,\n\u001b[0;32m   5657\u001b[0m                       interpolation\u001b[38;5;241m=\u001b[39minterpolation, origin\u001b[38;5;241m=\u001b[39morigin,\n\u001b[0;32m   5658\u001b[0m                       extent\u001b[38;5;241m=\u001b[39mextent, filternorm\u001b[38;5;241m=\u001b[39mfilternorm,\n\u001b[0;32m   5659\u001b[0m                       filterrad\u001b[38;5;241m=\u001b[39mfilterrad, resample\u001b[38;5;241m=\u001b[39mresample,\n\u001b[0;32m   5660\u001b[0m                       interpolation_stage\u001b[38;5;241m=\u001b[39minterpolation_stage,\n\u001b[0;32m   5661\u001b[0m                       \u001b[38;5;241m*\u001b[39m\u001b[38;5;241m*\u001b[39mkwargs)\n\u001b[1;32m-> 5663\u001b[0m im\u001b[38;5;241m.\u001b[39mset_data(X)\n\u001b[0;32m   5664\u001b[0m im\u001b[38;5;241m.\u001b[39mset_alpha(alpha)\n\u001b[0;32m   5665\u001b[0m \u001b[38;5;28;01mif\u001b[39;00m im\u001b[38;5;241m.\u001b[39mget_clip_path() \u001b[38;5;129;01mis\u001b[39;00m \u001b[38;5;28;01mNone\u001b[39;00m:\n\u001b[0;32m   5666\u001b[0m     \u001b[38;5;66;03m# image does not already have clipping set, clip to axes patch\u001b[39;00m\n",
      "File \u001b[1;32m~\\anaconda3\\Lib\\site-packages\\matplotlib\\image.py:701\u001b[0m, in \u001b[0;36m_ImageBase.set_data\u001b[1;34m(self, A)\u001b[0m\n\u001b[0;32m    697\u001b[0m \u001b[38;5;28mself\u001b[39m\u001b[38;5;241m.\u001b[39m_A \u001b[38;5;241m=\u001b[39m cbook\u001b[38;5;241m.\u001b[39msafe_masked_invalid(A, copy\u001b[38;5;241m=\u001b[39m\u001b[38;5;28;01mTrue\u001b[39;00m)\n\u001b[0;32m    699\u001b[0m \u001b[38;5;28;01mif\u001b[39;00m (\u001b[38;5;28mself\u001b[39m\u001b[38;5;241m.\u001b[39m_A\u001b[38;5;241m.\u001b[39mdtype \u001b[38;5;241m!=\u001b[39m np\u001b[38;5;241m.\u001b[39muint8 \u001b[38;5;129;01mand\u001b[39;00m\n\u001b[0;32m    700\u001b[0m         \u001b[38;5;129;01mnot\u001b[39;00m np\u001b[38;5;241m.\u001b[39mcan_cast(\u001b[38;5;28mself\u001b[39m\u001b[38;5;241m.\u001b[39m_A\u001b[38;5;241m.\u001b[39mdtype, \u001b[38;5;28mfloat\u001b[39m, \u001b[38;5;124m\"\u001b[39m\u001b[38;5;124msame_kind\u001b[39m\u001b[38;5;124m\"\u001b[39m)):\n\u001b[1;32m--> 701\u001b[0m     \u001b[38;5;28;01mraise\u001b[39;00m \u001b[38;5;167;01mTypeError\u001b[39;00m(\u001b[38;5;124m\"\u001b[39m\u001b[38;5;124mImage data of dtype \u001b[39m\u001b[38;5;132;01m{}\u001b[39;00m\u001b[38;5;124m cannot be converted to \u001b[39m\u001b[38;5;124m\"\u001b[39m\n\u001b[0;32m    702\u001b[0m                     \u001b[38;5;124m\"\u001b[39m\u001b[38;5;124mfloat\u001b[39m\u001b[38;5;124m\"\u001b[39m\u001b[38;5;241m.\u001b[39mformat(\u001b[38;5;28mself\u001b[39m\u001b[38;5;241m.\u001b[39m_A\u001b[38;5;241m.\u001b[39mdtype))\n\u001b[0;32m    704\u001b[0m \u001b[38;5;28;01mif\u001b[39;00m \u001b[38;5;28mself\u001b[39m\u001b[38;5;241m.\u001b[39m_A\u001b[38;5;241m.\u001b[39mndim \u001b[38;5;241m==\u001b[39m \u001b[38;5;241m3\u001b[39m \u001b[38;5;129;01mand\u001b[39;00m \u001b[38;5;28mself\u001b[39m\u001b[38;5;241m.\u001b[39m_A\u001b[38;5;241m.\u001b[39mshape[\u001b[38;5;241m-\u001b[39m\u001b[38;5;241m1\u001b[39m] \u001b[38;5;241m==\u001b[39m \u001b[38;5;241m1\u001b[39m:\n\u001b[0;32m    705\u001b[0m     \u001b[38;5;66;03m# If just one dimension assume scalar and apply colormap\u001b[39;00m\n\u001b[0;32m    706\u001b[0m     \u001b[38;5;28mself\u001b[39m\u001b[38;5;241m.\u001b[39m_A \u001b[38;5;241m=\u001b[39m \u001b[38;5;28mself\u001b[39m\u001b[38;5;241m.\u001b[39m_A[:, :, \u001b[38;5;241m0\u001b[39m]\n",
      "\u001b[1;31mTypeError\u001b[0m: Image data of dtype object cannot be converted to float"
     ]
    },
    {
     "data": {
      "image/png": "[encoded data removed]",
      "text/plain": [
       "<Figure size 1200x1000 with 1 Axes>"
      ]
     },
     "metadata": {},
     "output_type": "display_data"
    }
   ],
   "source": [
    "plt.figure(figsize = (12,10))\n",
    "plt.imshow(image_matrix)\n",
    "plt.show"
   ]
  },
  {
   "cell_type": "code",
   "execution_count": 6,
   "metadata": {
    "colab": {
     "base_uri": "https://localhost:8080/",
     "height": 852
    },
    "id": "Dfj-sPB13YaF",
    "outputId": "1fa11d36-7d29-4a17-d010-30a2b3d72e2a"
   },
   "outputs": [
    {
     "ename": "error",
     "evalue": "OpenCV(4.8.1) D:\\a\\opencv-python\\opencv-python\\opencv\\modules\\imgproc\\src\\color.cpp:182: error: (-215:Assertion failed) !_src.empty() in function 'cv::cvtColor'\n",
     "output_type": "error",
     "traceback": [
      "\u001b[1;31m---------------------------------------------------------------------------\u001b[0m",
      "\u001b[1;31merror\u001b[0m                                     Traceback (most recent call last)",
      "Cell \u001b[1;32mIn[6], line 2\u001b[0m\n\u001b[0;32m      1\u001b[0m plt\u001b[38;5;241m.\u001b[39mfigure(figsize \u001b[38;5;241m=\u001b[39m (\u001b[38;5;241m12\u001b[39m,\u001b[38;5;241m10\u001b[39m))\n\u001b[1;32m----> 2\u001b[0m plt\u001b[38;5;241m.\u001b[39mimshow(cv2\u001b[38;5;241m.\u001b[39mcvtColor(image_matrix, cv2\u001b[38;5;241m.\u001b[39mCOLOR_BGR2RGB))\n\u001b[0;32m      3\u001b[0m plt\u001b[38;5;241m.\u001b[39mshow\n",
      "\u001b[1;31merror\u001b[0m: OpenCV(4.8.1) D:\\a\\opencv-python\\opencv-python\\opencv\\modules\\imgproc\\src\\color.cpp:182: error: (-215:Assertion failed) !_src.empty() in function 'cv::cvtColor'\n"
     ]
    },
    {
     "data": {
      "text/plain": [
       "<Figure size 1200x1000 with 0 Axes>"
      ]
     },
     "metadata": {},
     "output_type": "display_data"
    }
   ],
   "source": [
    "plt.figure(figsize = (12,10))\n",
    "plt.imshow(cv2.cvtColor(image_matrix, cv2.COLOR_BGR2RGB))\n",
    "plt.show"
   ]
  },
  {
   "cell_type": "code",
   "execution_count": 33,
   "metadata": {
    "id": "OycF-D9Y3UcP"
   },
   "outputs": [],
   "source": [
    "os.makedirs('data/extracted_raw/image1/PASTA', exist_ok = True)\n",
    "os.makedirs('data/extracted_raw/image1/FLOUR', exist_ok = True)\n",
    "os.makedirs('data/extracted_raw/image1/CEREAL', exist_ok = True)\n",
    "os.makedirs('data/extracted_raw/image1/TEA', exist_ok = True)\n",
    "os.makedirs('data/extracted_raw/image1/BEANS', exist_ok = True)"
   ]
  },
  {
   "cell_type": "code",
   "execution_count": 34,
   "metadata": {
    "id": "Evj6faL45hNI"
   },
   "outputs": [],
   "source": [
    "images_1 = [f for f in os.listdir('data/extracted_raw/images/PASTA')]\n",
    "images_2 = [f for f in os.listdir('data/extracted_raw/images/FLOUR')]\n",
    "images_3 = [f for f in os.listdir('data/extracted_raw/images/CEREAL')]\n",
    "images_4 = [f for f in os.listdir('data/extracted_raw/images/TEA')]\n",
    "images_5 = [f for f in os.listdir('data/extracted_raw/images/BEANS')]\n",
    "\n",
    "for image in images_1:\n",
    "  old_path = 'data/extracted_raw/images/PASTA/'+ image\n",
    "  new_path = 'data/extracted_raw/image1/PASTA/'+ image\n",
    "  shutil.move(old_path, new_path)\n",
    "\n",
    "for image in images_2:\n",
    "  old_path = 'data/extracted_raw/images/FLOUR/'+ image\n",
    "  new_path = 'data/extracted_raw/image1/FLOUR/'+ image\n",
    "  shutil.move(old_path, new_path)\n",
    "\n",
    "for image in images_3:\n",
    "  old_path = 'data/extracted_raw/images/CEREAL/'+ image\n",
    "  new_path = 'data/extracted_raw/image1/CEREAL/'+ image\n",
    "  shutil.move(old_path, new_path)\n",
    "\n",
    "for image in images_4:\n",
    "  old_path = 'data/extracted_raw/images/TEA/'+ image\n",
    "  new_path = 'data/extracted_raw/image1/TEA/'+ image\n",
    "  shutil.move(old_path, new_path)\n",
    "\n",
    "for image in images_5:\n",
    "  old_path = 'data/extracted_raw/images/BEANS/'+ image\n",
    "  new_path = 'data/extracted_raw/image1/BEANS/'+ image\n",
    "  shutil.move(old_path, new_path)"
   ]
  },
  {
   "cell_type": "markdown",
   "metadata": {
    "id": "7W06LuzA82n4"
   },
   "source": [
    "# Data Augmentation (ImageDataGenerator)\n",
    "\n",
    "### base_dir\n",
    "\n",
    "#### train\n",
    "\n",
    "##### class1\n",
    "##### class2\n",
    "##### class3\n",
    "##### class4\n",
    "##### class5\n",
    "\n",
    "#### test\n",
    "\n",
    "##### class1\n",
    "##### class2\n",
    "##### class3\n",
    "##### class4\n",
    "##### class5\n",
    "\n"
   ]
  },
  {
   "cell_type": "code",
   "execution_count": 9,
   "metadata": {
    "id": "dgLjDME69tEr"
   },
   "outputs": [],
   "source": [
    "def directory_system_generator(source_directory, sink_directory):\n",
    "  train_path, test_path = os.path.join(sink_directory, 'train'), os.path.join(sink_directory, 'test')\n",
    "\n",
    "  classes = os.listdir(source_directory)\n",
    "  train_classes_path = [os.path.join(train_path, class_) for class_ in classes ]\n",
    "  test_classes_path = [os.path.join(test_path, class_) for class_ in classes ]\n",
    "\n",
    "  print('working on the train directories')\n",
    "\n",
    "  try:\n",
    "    list(map(os.makedirs, train_classes_path ))\n",
    "  except Exception as e:\n",
    "    print('directory already exist')\n",
    "\n",
    "  print('working on the test directories')\n",
    "\n",
    "  try:\n",
    "    list(map(os.makedirs, test_classes_path ))\n",
    "  except Exception as e:\n",
    "    print('directory already exist')\n",
    "\n",
    "  print('sucessful')\n",
    "\n",
    "  return train_path, test_path, classes\n",
    "\n",
    "\n"
   ]
  },
  {
   "cell_type": "code",
   "execution_count": 10,
   "metadata": {
    "colab": {
     "base_uri": "https://localhost:8080/"
    },
    "id": "0hkXmSRp9Pig",
    "outputId": "3fb58ac8-c905-4b8a-d8a5-5761939545c7"
   },
   "outputs": [
    {
     "name": "stdout",
     "output_type": "stream",
     "text": [
      "working on the train directories\n",
      "directory already exist\n",
      "working on the test directories\n",
      "directory already exist\n",
      "sucessful\n"
     ]
    }
   ],
   "source": [
    "train_path, test_path, classes = directory_system_generator(source_directory= 'data/extracted_raw/image1', sink_directory= 'data/processed')"
   ]
  },
  {
   "cell_type": "code",
   "execution_count": 11,
   "metadata": {
    "colab": {
     "base_uri": "https://localhost:8080/",
     "height": 36
    },
    "id": "Mq1D3jG7M5jJ",
    "outputId": "fbb8e238-7aaa-43ae-931d-8835fa1c1e5e"
   },
   "outputs": [
    {
     "data": {
      "text/plain": [
       "'data/processed\\\\train'"
      ]
     },
     "execution_count": 11,
     "metadata": {},
     "output_type": "execute_result"
    }
   ],
   "source": [
    "train_path"
   ]
  },
  {
   "cell_type": "code",
   "execution_count": 38,
   "metadata": {
    "colab": {
     "base_uri": "https://localhost:8080/"
    },
    "id": "sZadlt5uNPz7",
    "outputId": "102c7afd-66d3-4745-ee5d-970776728d09"
   },
   "outputs": [
    {
     "data": {
      "text/plain": [
       "['BEANS', 'CEREAL', 'FLOUR', 'PASTA', 'TEA']"
      ]
     },
     "execution_count": 38,
     "metadata": {},
     "output_type": "execute_result"
    }
   ],
   "source": [
    "classes"
   ]
  },
  {
   "cell_type": "code",
   "execution_count": 39,
   "metadata": {
    "colab": {
     "base_uri": "https://localhost:8080/"
    },
    "id": "yhCVj8yvCAA0",
    "outputId": "143c86e4-89df-43ab-cde7-e0b19f5e0d77"
   },
   "outputs": [
    {
     "data": {
      "text/plain": [
       "['BEANS', 'CEREAL', 'FLOUR', 'PASTA', 'TEA']"
      ]
     },
     "execution_count": 39,
     "metadata": {},
     "output_type": "execute_result"
    }
   ],
   "source": [
    "classes"
   ]
  },
  {
   "cell_type": "code",
   "execution_count": 40,
   "metadata": {
    "id": "ijgHNPIuCatG"
   },
   "outputs": [],
   "source": [
    "def file_mover(source_directory, sink_directory, classes, test_size = 0.2, random_state = 64, format = '.png' ):\n",
    "    for class_name in classes:\n",
    "        print(f'working on {class_name} class')\n",
    "        \n",
    "        class_src_path = os.path.join(source_directory, class_name)\n",
    "        all_images = [i for i in os.listdir(class_src_path) if i.endswith(format)]\n",
    "        print(f'total images found : {len(all_images)}')\n",
    "\n",
    "        all_images = pd.Series(all_images)\n",
    "        train, test = train_test_split(all_images, test_size = test_size, random_state = random_state)\n",
    "\n",
    "        train_source_paths = [os.path.join(class_src_path, file_path) for file_path in train ]\n",
    "        train_data_sink = os.path.join(sink_directory, 'train',class_name)\n",
    "        train_sink_paths = [os.path.join(train_data_sink, file_path) for file_path in train ]\n",
    "\n",
    "        test_source_paths = [os.path.join(class_src_path, file_path) for file_path in test ]\n",
    "        test_data_sink = os.path.join(sink_directory, 'test',class_name)\n",
    "        test_sink_paths = [os.path.join(test_data_sink, file_path) for file_path in test ]\n",
    "\n",
    "        list(map(move, train_source_paths,train_sink_paths))\n",
    "        list(map(move, test_source_paths, test_sink_paths))\n",
    "\n",
    "        print(f'all files moved for {class_name} class')\n",
    "        print(\"*\"*114)\n",
    "    print('sucessful')\n"
   ]
  },
  {
   "cell_type": "code",
   "execution_count": 41,
   "metadata": {
    "colab": {
     "base_uri": "https://localhost:8080/"
    },
    "id": "6wrz8iZdHVMk",
    "outputId": "3383d4ce-f2ba-4992-bc20-35d21afab77b"
   },
   "outputs": [
    {
     "name": "stdout",
     "output_type": "stream",
     "text": [
      "working on BEANS class\n",
      "total images found : 136\n",
      "all files moved for BEANS class\n",
      "******************************************************************************************************************\n",
      "working on CEREAL class\n",
      "total images found : 278\n",
      "all files moved for CEREAL class\n",
      "******************************************************************************************************************\n",
      "working on FLOUR class\n",
      "total images found : 109\n",
      "all files moved for FLOUR class\n",
      "******************************************************************************************************************\n",
      "working on PASTA class\n",
      "total images found : 172\n",
      "all files moved for PASTA class\n",
      "******************************************************************************************************************\n",
      "working on TEA class\n",
      "total images found : 283\n",
      "all files moved for TEA class\n",
      "******************************************************************************************************************\n",
      "sucessful\n"
     ]
    }
   ],
   "source": [
    "file_mover(source_directory = 'data/extracted_raw/image1', sink_directory= 'data/processed', classes = classes)"
   ]
  },
  {
   "cell_type": "code",
   "execution_count": 12,
   "metadata": {
    "colab": {
     "base_uri": "https://localhost:8080/"
    },
    "id": "pf5cs149Hj4X",
    "outputId": "3486036b-30c4-4f00-bfc4-379ec2f33e17",
    "scrolled": true
   },
   "outputs": [
    {
     "name": "stdout",
     "output_type": "stream",
     "text": [
      "Found 780 images belonging to 5 classes.\n",
      "Found 198 images belonging to 5 classes.\n"
     ]
    }
   ],
   "source": [
    "# Data Augmentation\n",
    "\n",
    "train_datagen = ImageDataGenerator(rescale= 1/255,\n",
    "                                   zoom_range = 0.3,\n",
    "                                   height_shift_range = 0.2,\n",
    "                                   width_shift_range = 0.4,\n",
    "                                   shear_range = 0.2,\n",
    "                                   rotation_range = 30,\n",
    "                                   horizontal_flip = True,\n",
    "                                   vertical_flip = True,\n",
    "                                   fill_mode = 'nearest')\n",
    "\n",
    "test_datagen = ImageDataGenerator(rescale= 1/255)\n",
    "\n",
    "train_generator = train_datagen.flow_from_directory(train_path,\n",
    "                                                    target_size = (256,256),\n",
    "                                                    batch_size = 10,\n",
    "                                                    classes = classes,\n",
    "                                                    class_mode = 'categorical')\n",
    "test_generator = test_datagen.flow_from_directory(test_path,\n",
    "                                                  target_size = (256,256),\n",
    "                                                  batch_size = 10,\n",
    "                                                  classes = classes,\n",
    "                                                  class_mode = 'categorical')"
   ]
  },
  {
   "cell_type": "code",
   "execution_count": null,
   "metadata": {},
   "outputs": [],
   "source": []
  },
  {
   "cell_type": "markdown",
   "metadata": {
    "id": "KGKcj7xkO5fx"
   },
   "source": [
    "# Modelling"
   ]
  },
  {
   "cell_type": "code",
   "execution_count": 13,
   "metadata": {
    "id": "1Rq1rFeWO9wn"
   },
   "outputs": [
    {
     "name": "stdout",
     "output_type": "stream",
     "text": [
      "WARNING:tensorflow:From C:\\Users\\prana\\anaconda3\\Lib\\site-packages\\keras\\src\\backend.py:873: The name tf.get_default_graph is deprecated. Please use tf.compat.v1.get_default_graph instead.\n",
      "\n",
      "WARNING:tensorflow:From C:\\Users\\prana\\anaconda3\\Lib\\site-packages\\keras\\src\\layers\\pooling\\max_pooling2d.py:161: The name tf.nn.max_pool is deprecated. Please use tf.nn.max_pool2d instead.\n",
      "\n",
      "WARNING:tensorflow:From C:\\Users\\prana\\anaconda3\\Lib\\site-packages\\keras\\src\\optimizers\\__init__.py:309: The name tf.train.Optimizer is deprecated. Please use tf.compat.v1.train.Optimizer instead.\n",
      "\n"
     ]
    }
   ],
   "source": [
    "#-----------------------Building the base model---------------------------\n",
    "\n",
    "# Initializing the model\n",
    "cnn = tf.keras.Sequential()\n",
    "\n",
    "# Adding the input layer\n",
    "cnn.add(tf.keras.layers.Input(shape = (256,256,3)))\n",
    "\n",
    "# Adding the First conv-pooling layer set\n",
    "cnn.add(tf.keras.layers.Conv2D(filters = 10, kernel_size = 3, padding = 'same'))\n",
    "cnn.add(tf.keras.layers.MaxPooling2D(pool_size = 2, padding = 'same'))\n",
    "\n",
    "# Adding the Second conv-pooling layer set\n",
    "cnn.add(tf.keras.layers.Conv2D(filters = 15, kernel_size = 3, padding = 'same'))\n",
    "cnn.add(tf.keras.layers.MaxPooling2D(pool_size = 2, padding = 'same'))\n",
    "\n",
    "# Flattening the data\n",
    "cnn.add(tf.keras.layers.Flatten())\n",
    "\n",
    "# Adding the fully connected layers (ANN)\n",
    "\n",
    "cnn.add(tf.keras.layers.Dense(units = 100, activation = 'relu', kernel_initializer = 'he_normal' ))\n",
    "cnn.add(tf.keras.layers.Dense(units = 150, activation = 'relu', kernel_initializer = 'he_uniform' ))\n",
    "cnn.add(tf.keras.layers.Dense(units = 200, activation = 'relu', kernel_initializer = 'he_normal' ))\n",
    "cnn.add(tf.keras.layers.Dense(units = len(classes), activation = 'softmax', kernel_initializer = 'glorot_normal'))\n",
    "\n",
    "# Compiling the model\n",
    "cnn.compile(optimizer = 'Adam',\n",
    "            loss = 'categorical_crossentropy',\n",
    "            metrics = ['accuracy','Precision','Recall'])"
   ]
  },
  {
   "cell_type": "code",
   "execution_count": 14,
   "metadata": {
    "colab": {
     "base_uri": "https://localhost:8080/"
    },
    "id": "KhlPifSSSpKc",
    "outputId": "63dba55b-788f-4962-b650-037457efce81"
   },
   "outputs": [
    {
     "name": "stdout",
     "output_type": "stream",
     "text": [
      "Model: \"sequential\"\n",
      "_________________________________________________________________\n",
      " Layer (type)                Output Shape              Param #   \n",
      "=================================================================\n",
      " conv2d (Conv2D)             (None, 256, 256, 10)      280       \n",
      "                                                                 \n",
      " max_pooling2d (MaxPooling2  (None, 128, 128, 10)      0         \n",
      " D)                                                              \n",
      "                                                                 \n",
      " conv2d_1 (Conv2D)           (None, 128, 128, 15)      1365      \n",
      "                                                                 \n",
      " max_pooling2d_1 (MaxPoolin  (None, 64, 64, 15)        0         \n",
      " g2D)                                                            \n",
      "                                                                 \n",
      " flatten (Flatten)           (None, 61440)             0         \n",
      "                                                                 \n",
      " dense (Dense)               (None, 100)               6144100   \n",
      "                                                                 \n",
      " dense_1 (Dense)             (None, 150)               15150     \n",
      "                                                                 \n",
      " dense_2 (Dense)             (None, 200)               30200     \n",
      "                                                                 \n",
      " dense_3 (Dense)             (None, 5)                 1005      \n",
      "                                                                 \n",
      "=================================================================\n",
      "Total params: 6192100 (23.62 MB)\n",
      "Trainable params: 6192100 (23.62 MB)\n",
      "Non-trainable params: 0 (0.00 Byte)\n",
      "_________________________________________________________________\n"
     ]
    }
   ],
   "source": [
    "# Summarizing the mdoel\n",
    "\n",
    "cnn.summary()"
   ]
  },
  {
   "cell_type": "code",
   "execution_count": null,
   "metadata": {
    "colab": {
     "base_uri": "https://localhost:8080/"
    },
    "id": "gnXq15VxS8VF",
    "outputId": "d05a383a-0db9-4e80-df90-e24dc096344e"
   },
   "outputs": [
    {
     "name": "stderr",
     "output_type": "stream",
     "text": [
      "C:\\Users\\prana\\AppData\\Local\\Temp\\ipykernel_3496\\1675067420.py:1: UserWarning: `Model.fit_generator` is deprecated and will be removed in a future version. Please use `Model.fit`, which supports generators.\n",
      "  cnn_history_obj = cnn.fit_generator(generator = train_generator,\n"
     ]
    },
    {
     "name": "stdout",
     "output_type": "stream",
     "text": [
      "Epoch 1/5\n",
      "WARNING:tensorflow:From C:\\Users\\prana\\anaconda3\\Lib\\site-packages\\keras\\src\\utils\\tf_utils.py:492: The name tf.ragged.RaggedTensorValue is deprecated. Please use tf.compat.v1.ragged.RaggedTensorValue instead.\n",
      "\n",
      "WARNING:tensorflow:From C:\\Users\\prana\\anaconda3\\Lib\\site-packages\\keras\\src\\engine\\base_layer_utils.py:384: The name tf.executing_eagerly_outside_functions is deprecated. Please use tf.compat.v1.executing_eagerly_outside_functions instead.\n",
      "\n"
     ]
    },
    {
     "name": "stderr",
     "output_type": "stream",
     "text": [
      "Exception in thread Thread-19 (_run):\n",
      "Traceback (most recent call last):\n",
      "  File \"C:\\Users\\prana\\anaconda3\\Lib\\threading.py\", line 1038, in _bootstrap_inner\n",
      "    self.run()\n",
      "  File \"C:\\Users\\prana\\anaconda3\\Lib\\threading.py\", line 975, in run\n",
      "    self._target(*self._args, **self._kwargs)\n",
      "  File \"C:\\Users\\prana\\anaconda3\\Lib\\site-packages\\keras\\src\\utils\\data_utils.py\", line 829, in _run\n",
      "    with closing(self.executor_fn(_SHARED_SEQUENCES)) as executor:\n",
      "                 ^^^^^^^^^^^^^^^^^^^^^^^^^^^^^^^^^^^\n",
      "  File \"C:\\Users\\prana\\anaconda3\\Lib\\site-packages\\keras\\src\\utils\\data_utils.py\", line 804, in pool_fn\n",
      "    pool = get_pool_class(True)(\n",
      "           ^^^^^^^^^^^^^^^^^^^^^\n",
      "  File \"C:\\Users\\prana\\anaconda3\\Lib\\multiprocessing\\context.py\", line 119, in Pool\n",
      "    return Pool(processes, initializer, initargs, maxtasksperchild,\n",
      "           ^^^^^^^^^^^^^^^^^^^^^^^^^^^^^^^^^^^^^^^^^^^^^^^^^^^^^^^^\n",
      "  File \"C:\\Users\\prana\\anaconda3\\Lib\\multiprocessing\\pool.py\", line 215, in __init__\n",
      "    self._repopulate_pool()\n",
      "  File \"C:\\Users\\prana\\anaconda3\\Lib\\multiprocessing\\pool.py\", line 306, in _repopulate_pool\n",
      "    return self._repopulate_pool_static(self._ctx, self.Process,\n",
      "           ^^^^^^^^^^^^^^^^^^^^^^^^^^^^^^^^^^^^^^^^^^^^^^^^^^^^^\n",
      "  File \"C:\\Users\\prana\\anaconda3\\Lib\\multiprocessing\\pool.py\", line 329, in _repopulate_pool_static\n",
      "    w.start()\n",
      "  File \"C:\\Users\\prana\\anaconda3\\Lib\\multiprocessing\\process.py\", line 121, in start\n",
      "    self._popen = self._Popen(self)\n",
      "                  ^^^^^^^^^^^^^^^^^\n",
      "  File \"C:\\Users\\prana\\anaconda3\\Lib\\multiprocessing\\context.py\", line 336, in _Popen\n",
      "    return Popen(process_obj)\n",
      "           ^^^^^^^^^^^^^^^^^^\n",
      "  File \"C:\\Users\\prana\\anaconda3\\Lib\\multiprocessing\\popen_spawn_win32.py\", line 94, in __init__\n",
      "    reduction.dump(process_obj, to_child)\n",
      "  File \"C:\\Users\\prana\\anaconda3\\Lib\\multiprocessing\\reduction.py\", line 60, in dump\n",
      "    ForkingPickler(file, protocol).dump(obj)\n",
      "TypeError: cannot pickle '_thread.lock' object\n"
     ]
    }
   ],
   "source": [
    "cnn_history_obj = cnn.fit_generator(generator = train_generator,\n",
    "                                    validation_data = test_generator,\n",
    "                                    epochs = 5,\n",
    "                                    use_multiprocessing = True,\n",
    "                                    workers = 10)"
   ]
  },
  {
   "cell_type": "markdown",
   "metadata": {
    "id": "N5FjvG3uUOPS"
   },
   "source": []
  },
  {
   "cell_type": "markdown",
   "metadata": {
    "id": "SkkqG69WTkjW"
   },
   "source": [
    "# Model Evaluation"
   ]
  },
  {
   "cell_type": "code",
   "execution_count": 23,
   "metadata": {
    "colab": {
     "base_uri": "https://localhost:8080/"
    },
    "id": "1UWi_10BTpyp",
    "outputId": "8792f04c-243b-4f2d-ed00-ee66079d6256"
   },
   "outputs": [
    {
     "name": "stdout",
     "output_type": "stream",
     "text": [
      "dict_keys(['loss', 'accuracy', 'precision', 'recall', 'val_loss', 'val_accuracy', 'val_precision', 'val_recall'])\n"
     ]
    }
   ],
   "source": [
    "# list of all data in history obj\n",
    "print(cnn_history_obj.history.keys())"
   ]
  },
  {
   "cell_type": "code",
   "execution_count": 24,
   "metadata": {
    "colab": {
     "base_uri": "https://localhost:8080/",
     "height": 472
    },
    "id": "UyQQLNn-UBSj",
    "outputId": "b355cd3e-a312-4839-ca7b-a054363366ea"
   },
   "outputs": [
    {
     "data": {
      "image/png": "[encoded data removed]",
      "text/plain": [
       "<Figure size 640x480 with 1 Axes>"
      ]
     },
     "metadata": {},
     "output_type": "display_data"
    }
   ],
   "source": [
    "# Summarizing history obj for Accuracy\n",
    "plt.plot(cnn_history_obj.history['accuracy'])\n",
    "plt.plot(cnn_history_obj.history['val_accuracy'])\n",
    "plt.title('model_accuracy')\n",
    "plt.ylabel('accuracy')\n",
    "plt.xlabel('epoch')\n",
    "plt.legend(['train','test'], loc = 'upper left')\n",
    "plt.show()"
   ]
  },
  {
   "cell_type": "code",
   "execution_count": 25,
   "metadata": {
    "colab": {
     "base_uri": "https://localhost:8080/",
     "height": 472
    },
    "id": "PQKrBSf4Vm49",
    "outputId": "6ed9db01-1a3b-49f6-cbf2-861e4c4080df"
   },
   "outputs": [
    {
     "data": {
      "image/png": "[encoded data removed]",
      "text/plain": [
       "<Figure size 640x480 with 1 Axes>"
      ]
     },
     "metadata": {},
     "output_type": "display_data"
    }
   ],
   "source": [
    "# Summarizing history obj for Precision\n",
    "plt.plot(cnn_history_obj.history['precision'])\n",
    "plt.plot(cnn_history_obj.history['val_precision'])\n",
    "plt.title('model_precision')\n",
    "plt.ylabel('precision')\n",
    "plt.xlabel('epoch')\n",
    "plt.legend(['train','test'], loc = 'upper left')\n",
    "plt.show()"
   ]
  },
  {
   "cell_type": "code",
   "execution_count": 26,
   "metadata": {
    "colab": {
     "base_uri": "https://localhost:8080/",
     "height": 472
    },
    "id": "yy-V9hHlV-RV",
    "outputId": "6c870fa2-61ce-4408-ce67-6286987f1eda"
   },
   "outputs": [
    {
     "data": {
      "image/png": "[encoded data removed]",
      "text/plain": [
       "<Figure size 640x480 with 1 Axes>"
      ]
     },
     "metadata": {},
     "output_type": "display_data"
    }
   ],
   "source": [
    "# Summarizing history obj for recall\n",
    "plt.plot(cnn_history_obj.history['recall'])\n",
    "plt.plot(cnn_history_obj.history['val_recall'])\n",
    "plt.title('model_recall')\n",
    "plt.ylabel('recall')\n",
    "plt.xlabel('epoch')\n",
    "plt.legend(['train','test'], loc = 'upper left')\n",
    "plt.show()"
   ]
  },
  {
   "cell_type": "code",
   "execution_count": 28,
   "metadata": {
    "id": "oCeE4sPzWr8O"
   },
   "outputs": [],
   "source": [
    "# Saving the model\n",
    "\n",
    "model_weight_dir = 'Weight'\n",
    "\n",
    "os.makedirs(model_weight_dir, exist_ok = True)\n",
    "\n",
    "# Saving the models weights\n",
    "cnn.save(os.path.join(model_weight_dir, 'Best_model.tf'), save_format= 'tf')"
   ]
  },
  {
   "cell_type": "code",
   "execution_count": 29,
   "metadata": {
    "id": "97WMPUzXXUtR"
   },
   "outputs": [],
   "source": [
    "# Loading the saved model\n",
    "\n",
    "load_model = tf.keras.models.load_model('/content/Weight/Best_model.tf')"
   ]
  },
  {
   "cell_type": "code",
   "execution_count": 30,
   "metadata": {
    "colab": {
     "base_uri": "https://localhost:8080/"
    },
    "id": "zT23BovpXiio",
    "outputId": "38053d5d-f695-49a9-d20d-3303364615e1"
   },
   "outputs": [
    {
     "name": "stdout",
     "output_type": "stream",
     "text": [
      "Model: \"sequential_1\"\n",
      "_________________________________________________________________\n",
      " Layer (type)                Output Shape              Param #   \n",
      "=================================================================\n",
      " conv2d (Conv2D)             (None, 256, 256, 10)      280       \n",
      "                                                                 \n",
      " max_pooling2d (MaxPooling2  (None, 128, 128, 10)      0         \n",
      " D)                                                              \n",
      "                                                                 \n",
      " conv2d_1 (Conv2D)           (None, 128, 128, 15)      1365      \n",
      "                                                                 \n",
      " max_pooling2d_1 (MaxPoolin  (None, 64, 64, 15)        0         \n",
      " g2D)                                                            \n",
      "                                                                 \n",
      " flatten (Flatten)           (None, 61440)             0         \n",
      "                                                                 \n",
      " dense (Dense)               (None, 100)               6144100   \n",
      "                                                                 \n",
      " dense_1 (Dense)             (None, 150)               15150     \n",
      "                                                                 \n",
      " dense_2 (Dense)             (None, 200)               30200     \n",
      "                                                                 \n",
      " dense_3 (Dense)             (None, 5)                 1005      \n",
      "                                                                 \n",
      "=================================================================\n",
      "Total params: 6192100 (23.62 MB)\n",
      "Trainable params: 6192100 (23.62 MB)\n",
      "Non-trainable params: 0 (0.00 Byte)\n",
      "_________________________________________________________________\n"
     ]
    }
   ],
   "source": [
    "# Summarizing the load model\n",
    "load_model.summary()"
   ]
  },
  {
   "cell_type": "code",
   "execution_count": 33,
   "metadata": {
    "id": "Y_7XGf6yXxZu"
   },
   "outputs": [],
   "source": [
    "image = load_img('/content/data/processed/test/CEREAL/CEREAL0007.png', target_size = (256,256))"
   ]
  },
  {
   "cell_type": "code",
   "execution_count": 35,
   "metadata": {
    "id": "aLXV01zrYi_I"
   },
   "outputs": [],
   "source": [
    "image_matrix = np.array(image)"
   ]
  },
  {
   "cell_type": "code",
   "execution_count": 37,
   "metadata": {
    "id": "dveE6BIVY4Ov"
   },
   "outputs": [],
   "source": [
    "image_matrix_normal = image_matrix/255"
   ]
  },
  {
   "cell_type": "code",
   "execution_count": 40,
   "metadata": {
    "id": "ukgrYTRzZAwh"
   },
   "outputs": [],
   "source": [
    "image_matrix_normal_flatten = image_matrix_normal.reshape(1,256,256,3)"
   ]
  },
  {
   "cell_type": "code",
   "execution_count": 41,
   "metadata": {
    "colab": {
     "base_uri": "https://localhost:8080/"
    },
    "id": "Wc4GigyBZT7U",
    "outputId": "42e1dd9a-21ca-44ce-8713-635e6242b02e"
   },
   "outputs": [
    {
     "name": "stdout",
     "output_type": "stream",
     "text": [
      "1/1 [==============================] - 0s 264ms/step\n"
     ]
    }
   ],
   "source": [
    "label = load_model.predict(image_matrix_normal_flatten)"
   ]
  },
  {
   "cell_type": "code",
   "execution_count": 42,
   "metadata": {
    "colab": {
     "base_uri": "https://localhost:8080/"
    },
    "id": "TfJF4B51Zfp-",
    "outputId": "09a89b0d-e704-4bd2-9c52-1f128e7c254f"
   },
   "outputs": [
    {
     "data": {
      "text/plain": [
       "array([[0.19938684, 0.33618304, 0.05434413, 0.19142705, 0.21865897]],\n",
       "      dtype=float32)"
      ]
     },
     "execution_count": 42,
     "metadata": {},
     "output_type": "execute_result"
    }
   ],
   "source": [
    "label"
   ]
  },
  {
   "cell_type": "code",
   "execution_count": 43,
   "metadata": {
    "colab": {
     "base_uri": "https://localhost:8080/"
    },
    "id": "havTtnt9Zi0k",
    "outputId": "81774995-1b51-4499-d7be-622e0c66e58d"
   },
   "outputs": [
    {
     "data": {
      "text/plain": [
       "['TEA', 'BEANS', 'FLOUR', 'CEREAL', 'PASTA']"
      ]
     },
     "execution_count": 43,
     "metadata": {},
     "output_type": "execute_result"
    }
   ],
   "source": [
    "classes"
   ]
  }
 ],
 "metadata": {
  "accelerator": "GPU",
  "colab": {
   "gpuType": "T4",
   "provenance": []
  },
  "kernelspec": {
   "display_name": "Python 3 (ipykernel)",
   "language": "python",
   "name": "python3"
  },
  "language_info": {
   "codemirror_mode": {
    "name": "ipython",
    "version": 3
   },
   "file_extension": ".py",
   "mimetype": "text/x-python",
   "name": "python",
   "nbconvert_exporter": "python",
   "pygments_lexer": "ipython3",
   "version": "3.11.5"
  }
 },
 "nbformat": 4,
 "nbformat_minor": 1
}
